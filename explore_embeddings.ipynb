{
 "cells": [
  {
   "cell_type": "code",
   "execution_count": 4,
   "id": "private-brunei",
   "metadata": {},
   "outputs": [],
   "source": [
    "import seaborn as sns\n",
    "import matplotlib.pyplot as plt\n",
    "import numpy as np"
   ]
  },
  {
   "cell_type": "markdown",
   "id": "opponent-advancement",
   "metadata": {},
   "source": [
    "### loading node2vec embeddings"
   ]
  },
  {
   "cell_type": "code",
   "execution_count": 5,
   "id": "statewide-zambia",
   "metadata": {},
   "outputs": [],
   "source": [
    "with open('gae/data/saved/node2vec/disease_weighted.emb') as f:\n",
    "    embeddings = f.readlines()[1:]"
   ]
  },
  {
   "cell_type": "code",
   "execution_count": 6,
   "id": "directed-spanking",
   "metadata": {},
   "outputs": [],
   "source": [
    "embeddings.sort(key=lambda l: int(l.replace('\\n', '').split(' ')[0]))"
   ]
  },
  {
   "cell_type": "code",
   "execution_count": 7,
   "id": "continued-place",
   "metadata": {},
   "outputs": [],
   "source": [
    "embeddings = [[float(n) for n in l.split(' ')] for l in embeddings]"
   ]
  },
  {
   "cell_type": "code",
   "execution_count": 8,
   "id": "scenic-switzerland",
   "metadata": {},
   "outputs": [],
   "source": [
    "node_list = [e[0] for e in embeddings]\n",
    "embeddings = [e[1:] for e in embeddings]"
   ]
  },
  {
   "cell_type": "code",
   "execution_count": 9,
   "id": "inappropriate-desperate",
   "metadata": {},
   "outputs": [
    {
     "data": {
      "text/plain": [
       "(516, 16)"
      ]
     },
     "execution_count": 9,
     "metadata": {},
     "output_type": "execute_result"
    }
   ],
   "source": [
    "embedding_matrix = np.stack(embeddings)\n",
    "embedding_matrix.shape"
   ]
  },
  {
   "cell_type": "markdown",
   "id": "olive-alignment",
   "metadata": {},
   "source": [
    "### loading gmvae embeddings"
   ]
  },
  {
   "cell_type": "code",
   "execution_count": 10,
   "id": "verbal-hanging",
   "metadata": {},
   "outputs": [
    {
     "data": {
      "text/plain": [
       "(516, 16)"
      ]
     },
     "execution_count": 10,
     "metadata": {},
     "output_type": "execute_result"
    }
   ],
   "source": [
    "z = np.load('gae/data/saved/disease_network_z.npy')\n",
    "z.shape"
   ]
  },
  {
   "cell_type": "code",
   "execution_count": 11,
   "id": "civilian-sheriff",
   "metadata": {},
   "outputs": [],
   "source": [
    "with open('gae/data/diseasome/node_list.txt') as f: \n",
    "    node_order = f.readlines()"
   ]
  },
  {
   "cell_type": "code",
   "execution_count": 12,
   "id": "signed-plaza",
   "metadata": {},
   "outputs": [],
   "source": [
    "node_order = [int(n.replace('\\n', '')) for n in node_order]"
   ]
  },
  {
   "cell_type": "code",
   "execution_count": 13,
   "id": "photographic-scheduling",
   "metadata": {},
   "outputs": [
    {
     "name": "stderr",
     "output_type": "stream",
     "text": [
      "/home/ubuntu/anaconda3/envs/tensorflow2_latest_p37/lib/python3.7/site-packages/numpy/core/_asarray.py:136: VisibleDeprecationWarning: Creating an ndarray from ragged nested sequences (which is a list-or-tuple of lists-or-tuples-or ndarrays with different lengths or shapes) is deprecated. If you meant to do this, you must specify 'dtype=object' when creating the ndarray\n",
      "  return array(a, dtype, copy=False, order=order, subok=True)\n"
     ]
    }
   ],
   "source": [
    "# sorted z \n",
    "z = np.stack(sorted(zip(node_order, z.tolist()), key=lambda x: x[0]))"
   ]
  },
  {
   "cell_type": "code",
   "execution_count": 14,
   "id": "abroad-discretion",
   "metadata": {},
   "outputs": [],
   "source": [
    "z = np.stack(list(zip(*z))[1])"
   ]
  },
  {
   "cell_type": "markdown",
   "id": "latest-prince",
   "metadata": {},
   "source": [
    "### Dataframe"
   ]
  },
  {
   "cell_type": "code",
   "execution_count": 18,
   "id": "fatty-batman",
   "metadata": {},
   "outputs": [],
   "source": [
    "import pandas as pd \n",
    "\n",
    "emb_df = pd.DataFrame()\n",
    "emb_df['node2vec'] = embedding_matrix.tolist()\n",
    "emb_df['gmvae'] = z.tolist()\n",
    "emb_df = emb_df.set_index(pd.Series(node_list))"
   ]
  },
  {
   "cell_type": "code",
   "execution_count": 23,
   "id": "genuine-inspiration",
   "metadata": {},
   "outputs": [
    {
     "data": {
      "text/html": [
       "<div>\n",
       "<style scoped>\n",
       "    .dataframe tbody tr th:only-of-type {\n",
       "        vertical-align: middle;\n",
       "    }\n",
       "\n",
       "    .dataframe tbody tr th {\n",
       "        vertical-align: top;\n",
       "    }\n",
       "\n",
       "    .dataframe thead th {\n",
       "        text-align: right;\n",
       "    }\n",
       "</style>\n",
       "<table border=\"1\" class=\"dataframe\">\n",
       "  <thead>\n",
       "    <tr style=\"text-align: right;\">\n",
       "      <th></th>\n",
       "      <th>node2vec</th>\n",
       "      <th>gmvae</th>\n",
       "    </tr>\n",
       "  </thead>\n",
       "  <tbody>\n",
       "    <tr>\n",
       "      <th>30.0</th>\n",
       "      <td>[-0.465608, -0.382239, 0.12997, 0.470032, -0.2...</td>\n",
       "      <td>[-0.8235658407211304, 1.1888302564620972, -0.4...</td>\n",
       "    </tr>\n",
       "    <tr>\n",
       "      <th>36.0</th>\n",
       "      <td>[-0.578018, -0.494388, 0.52027, 0.554174, -0.3...</td>\n",
       "      <td>[-1.607719898223877, -0.41855698823928833, -0....</td>\n",
       "    </tr>\n",
       "    <tr>\n",
       "      <th>37.0</th>\n",
       "      <td>[-0.554796, -0.479376, 0.511476, 0.547988, -0....</td>\n",
       "      <td>[-2.5158896446228027, -0.44234979152679443, -0...</td>\n",
       "    </tr>\n",
       "    <tr>\n",
       "      <th>38.0</th>\n",
       "      <td>[-0.594653, -0.491095, 0.508405, 0.581627, -0....</td>\n",
       "      <td>[-1.138237476348877, 0.09204845130443573, -0.6...</td>\n",
       "    </tr>\n",
       "    <tr>\n",
       "      <th>39.0</th>\n",
       "      <td>[-0.562435, -0.494444, 0.494899, 0.551595, -0....</td>\n",
       "      <td>[0.19286823272705078, -0.024575497955083847, -...</td>\n",
       "    </tr>\n",
       "    <tr>\n",
       "      <th>...</th>\n",
       "      <td>...</td>\n",
       "      <td>...</td>\n",
       "    </tr>\n",
       "    <tr>\n",
       "      <th>1303.0</th>\n",
       "      <td>[-0.672099, -0.490674, -0.13749, 1.02264, -0.4...</td>\n",
       "      <td>[-0.06393954157829285, 0.2460901141166687, 0.2...</td>\n",
       "    </tr>\n",
       "    <tr>\n",
       "      <th>1304.0</th>\n",
       "      <td>[-0.674965, -0.48982, -0.122336, 1.01866, -0.4...</td>\n",
       "      <td>[0.0732053816318512, 0.5469842553138733, 0.028...</td>\n",
       "    </tr>\n",
       "    <tr>\n",
       "      <th>1305.0</th>\n",
       "      <td>[-0.708231, -0.483022, -0.121356, 1.00878, -0....</td>\n",
       "      <td>[-1.3968186378479004, -0.1816001534461975, 0.3...</td>\n",
       "    </tr>\n",
       "    <tr>\n",
       "      <th>1306.0</th>\n",
       "      <td>[-0.553284, 0.09171, 0.0860489, 0.425314, -0.2...</td>\n",
       "      <td>[-0.7628568410873413, -0.7926732897758484, 0.3...</td>\n",
       "    </tr>\n",
       "    <tr>\n",
       "      <th>1307.0</th>\n",
       "      <td>[-0.567333, 0.0469807, 0.143791, 0.419592, -0....</td>\n",
       "      <td>[-0.32871681451797485, 0.3382381200790405, -1....</td>\n",
       "    </tr>\n",
       "  </tbody>\n",
       "</table>\n",
       "<p>516 rows × 2 columns</p>\n",
       "</div>"
      ],
      "text/plain": [
       "                                                 node2vec  \\\n",
       "30.0    [-0.465608, -0.382239, 0.12997, 0.470032, -0.2...   \n",
       "36.0    [-0.578018, -0.494388, 0.52027, 0.554174, -0.3...   \n",
       "37.0    [-0.554796, -0.479376, 0.511476, 0.547988, -0....   \n",
       "38.0    [-0.594653, -0.491095, 0.508405, 0.581627, -0....   \n",
       "39.0    [-0.562435, -0.494444, 0.494899, 0.551595, -0....   \n",
       "...                                                   ...   \n",
       "1303.0  [-0.672099, -0.490674, -0.13749, 1.02264, -0.4...   \n",
       "1304.0  [-0.674965, -0.48982, -0.122336, 1.01866, -0.4...   \n",
       "1305.0  [-0.708231, -0.483022, -0.121356, 1.00878, -0....   \n",
       "1306.0  [-0.553284, 0.09171, 0.0860489, 0.425314, -0.2...   \n",
       "1307.0  [-0.567333, 0.0469807, 0.143791, 0.419592, -0....   \n",
       "\n",
       "                                                    gmvae  \n",
       "30.0    [-0.8235658407211304, 1.1888302564620972, -0.4...  \n",
       "36.0    [-1.607719898223877, -0.41855698823928833, -0....  \n",
       "37.0    [-2.5158896446228027, -0.44234979152679443, -0...  \n",
       "38.0    [-1.138237476348877, 0.09204845130443573, -0.6...  \n",
       "39.0    [0.19286823272705078, -0.024575497955083847, -...  \n",
       "...                                                   ...  \n",
       "1303.0  [-0.06393954157829285, 0.2460901141166687, 0.2...  \n",
       "1304.0  [0.0732053816318512, 0.5469842553138733, 0.028...  \n",
       "1305.0  [-1.3968186378479004, -0.1816001534461975, 0.3...  \n",
       "1306.0  [-0.7628568410873413, -0.7926732897758484, 0.3...  \n",
       "1307.0  [-0.32871681451797485, 0.3382381200790405, -1....  \n",
       "\n",
       "[516 rows x 2 columns]"
      ]
     },
     "execution_count": 23,
     "metadata": {},
     "output_type": "execute_result"
    }
   ],
   "source": [
    "emb_df"
   ]
  },
  {
   "cell_type": "code",
   "execution_count": 24,
   "id": "advanced-prairie",
   "metadata": {},
   "outputs": [
    {
     "data": {
      "text/html": [
       "<div>\n",
       "<style scoped>\n",
       "    .dataframe tbody tr th:only-of-type {\n",
       "        vertical-align: middle;\n",
       "    }\n",
       "\n",
       "    .dataframe tbody tr th {\n",
       "        vertical-align: top;\n",
       "    }\n",
       "\n",
       "    .dataframe thead th {\n",
       "        text-align: right;\n",
       "    }\n",
       "</style>\n",
       "<table border=\"1\" class=\"dataframe\">\n",
       "  <thead>\n",
       "    <tr style=\"text-align: right;\">\n",
       "      <th></th>\n",
       "      <th>Unnamed: 0</th>\n",
       "      <th>label</th>\n",
       "      <th>type</th>\n",
       "    </tr>\n",
       "  </thead>\n",
       "  <tbody>\n",
       "    <tr>\n",
       "      <th>30.0</th>\n",
       "      <td>30</td>\n",
       "      <td>Alzheimer disease</td>\n",
       "      <td>Neurological</td>\n",
       "    </tr>\n",
       "    <tr>\n",
       "      <th>36.0</th>\n",
       "      <td>36</td>\n",
       "      <td>Cerebral amyloid angiopathy</td>\n",
       "      <td>Neurological</td>\n",
       "    </tr>\n",
       "    <tr>\n",
       "      <th>37.0</th>\n",
       "      <td>37</td>\n",
       "      <td>Coronary artery disease</td>\n",
       "      <td>Cardiovascular</td>\n",
       "    </tr>\n",
       "    <tr>\n",
       "      <th>38.0</th>\n",
       "      <td>38</td>\n",
       "      <td>HDL cholesterol level QTL</td>\n",
       "      <td>Metabolic</td>\n",
       "    </tr>\n",
       "    <tr>\n",
       "      <th>39.0</th>\n",
       "      <td>39</td>\n",
       "      <td>Tangier disease</td>\n",
       "      <td>Metabolic</td>\n",
       "    </tr>\n",
       "  </tbody>\n",
       "</table>\n",
       "</div>"
      ],
      "text/plain": [
       "      Unnamed: 0                        label            type\n",
       "30.0          30            Alzheimer disease    Neurological\n",
       "36.0          36  Cerebral amyloid angiopathy    Neurological\n",
       "37.0          37      Coronary artery disease  Cardiovascular\n",
       "38.0          38    HDL cholesterol level QTL       Metabolic\n",
       "39.0          39              Tangier disease       Metabolic"
      ]
     },
     "execution_count": 24,
     "metadata": {},
     "output_type": "execute_result"
    }
   ],
   "source": [
    "import pandas as pd \n",
    "\n",
    "label_df = pd.read_csv('gae/data/diseasome/diseases.csv')\n",
    "label_df = label_df.set_index(emb_df.index)    # the nodes are already aligned \n",
    "label_df.head()"
   ]
  },
  {
   "cell_type": "code",
   "execution_count": 25,
   "id": "radical-variety",
   "metadata": {},
   "outputs": [
    {
     "data": {
      "text/html": [
       "<div>\n",
       "<style scoped>\n",
       "    .dataframe tbody tr th:only-of-type {\n",
       "        vertical-align: middle;\n",
       "    }\n",
       "\n",
       "    .dataframe tbody tr th {\n",
       "        vertical-align: top;\n",
       "    }\n",
       "\n",
       "    .dataframe thead th {\n",
       "        text-align: right;\n",
       "    }\n",
       "</style>\n",
       "<table border=\"1\" class=\"dataframe\">\n",
       "  <thead>\n",
       "    <tr style=\"text-align: right;\">\n",
       "      <th></th>\n",
       "      <th>node2vec</th>\n",
       "      <th>gmvae</th>\n",
       "      <th>Unnamed: 0</th>\n",
       "      <th>label</th>\n",
       "      <th>type</th>\n",
       "    </tr>\n",
       "  </thead>\n",
       "  <tbody>\n",
       "    <tr>\n",
       "      <th>30.0</th>\n",
       "      <td>[-0.465608, -0.382239, 0.12997, 0.470032, -0.2...</td>\n",
       "      <td>[-0.8235658407211304, 1.1888302564620972, -0.4...</td>\n",
       "      <td>30</td>\n",
       "      <td>Alzheimer disease</td>\n",
       "      <td>Neurological</td>\n",
       "    </tr>\n",
       "    <tr>\n",
       "      <th>36.0</th>\n",
       "      <td>[-0.578018, -0.494388, 0.52027, 0.554174, -0.3...</td>\n",
       "      <td>[-1.607719898223877, -0.41855698823928833, -0....</td>\n",
       "      <td>36</td>\n",
       "      <td>Cerebral amyloid angiopathy</td>\n",
       "      <td>Neurological</td>\n",
       "    </tr>\n",
       "    <tr>\n",
       "      <th>37.0</th>\n",
       "      <td>[-0.554796, -0.479376, 0.511476, 0.547988, -0....</td>\n",
       "      <td>[-2.5158896446228027, -0.44234979152679443, -0...</td>\n",
       "      <td>37</td>\n",
       "      <td>Coronary artery disease</td>\n",
       "      <td>Cardiovascular</td>\n",
       "    </tr>\n",
       "    <tr>\n",
       "      <th>38.0</th>\n",
       "      <td>[-0.594653, -0.491095, 0.508405, 0.581627, -0....</td>\n",
       "      <td>[-1.138237476348877, 0.09204845130443573, -0.6...</td>\n",
       "      <td>38</td>\n",
       "      <td>HDL cholesterol level QTL</td>\n",
       "      <td>Metabolic</td>\n",
       "    </tr>\n",
       "    <tr>\n",
       "      <th>39.0</th>\n",
       "      <td>[-0.562435, -0.494444, 0.494899, 0.551595, -0....</td>\n",
       "      <td>[0.19286823272705078, -0.024575497955083847, -...</td>\n",
       "      <td>39</td>\n",
       "      <td>Tangier disease</td>\n",
       "      <td>Metabolic</td>\n",
       "    </tr>\n",
       "    <tr>\n",
       "      <th>...</th>\n",
       "      <td>...</td>\n",
       "      <td>...</td>\n",
       "      <td>...</td>\n",
       "      <td>...</td>\n",
       "      <td>...</td>\n",
       "    </tr>\n",
       "    <tr>\n",
       "      <th>1303.0</th>\n",
       "      <td>[-0.672099, -0.490674, -0.13749, 1.02264, -0.4...</td>\n",
       "      <td>[-0.06393954157829285, 0.2460901141166687, 0.2...</td>\n",
       "      <td>1303</td>\n",
       "      <td>Infantile spasm syndrome</td>\n",
       "      <td>Neurological</td>\n",
       "    </tr>\n",
       "    <tr>\n",
       "      <th>1304.0</th>\n",
       "      <td>[-0.674965, -0.48982, -0.122336, 1.01866, -0.4...</td>\n",
       "      <td>[0.0732053816318512, 0.5469842553138733, 0.028...</td>\n",
       "      <td>1304</td>\n",
       "      <td>Partington syndrome</td>\n",
       "      <td>Neurological</td>\n",
       "    </tr>\n",
       "    <tr>\n",
       "      <th>1305.0</th>\n",
       "      <td>[-0.708231, -0.483022, -0.121356, 1.00878, -0....</td>\n",
       "      <td>[-1.3968186378479004, -0.1816001534461975, 0.3...</td>\n",
       "      <td>1305</td>\n",
       "      <td>Proud syndrome</td>\n",
       "      <td>Multiple</td>\n",
       "    </tr>\n",
       "    <tr>\n",
       "      <th>1306.0</th>\n",
       "      <td>[-0.553284, 0.09171, 0.0860489, 0.425314, -0.2...</td>\n",
       "      <td>[-0.7628568410873413, -0.7926732897758484, 0.3...</td>\n",
       "      <td>1306</td>\n",
       "      <td>Birt-Hogg-Dube syndrome</td>\n",
       "      <td>Dermatological</td>\n",
       "    </tr>\n",
       "    <tr>\n",
       "      <th>1307.0</th>\n",
       "      <td>[-0.567333, 0.0469807, 0.143791, 0.419592, -0....</td>\n",
       "      <td>[-0.32871681451797485, 0.3382381200790405, -1....</td>\n",
       "      <td>1307</td>\n",
       "      <td>Pneumothorax, primary spontaneous</td>\n",
       "      <td>Respiratory</td>\n",
       "    </tr>\n",
       "  </tbody>\n",
       "</table>\n",
       "<p>516 rows × 5 columns</p>\n",
       "</div>"
      ],
      "text/plain": [
       "                                                 node2vec  \\\n",
       "30.0    [-0.465608, -0.382239, 0.12997, 0.470032, -0.2...   \n",
       "36.0    [-0.578018, -0.494388, 0.52027, 0.554174, -0.3...   \n",
       "37.0    [-0.554796, -0.479376, 0.511476, 0.547988, -0....   \n",
       "38.0    [-0.594653, -0.491095, 0.508405, 0.581627, -0....   \n",
       "39.0    [-0.562435, -0.494444, 0.494899, 0.551595, -0....   \n",
       "...                                                   ...   \n",
       "1303.0  [-0.672099, -0.490674, -0.13749, 1.02264, -0.4...   \n",
       "1304.0  [-0.674965, -0.48982, -0.122336, 1.01866, -0.4...   \n",
       "1305.0  [-0.708231, -0.483022, -0.121356, 1.00878, -0....   \n",
       "1306.0  [-0.553284, 0.09171, 0.0860489, 0.425314, -0.2...   \n",
       "1307.0  [-0.567333, 0.0469807, 0.143791, 0.419592, -0....   \n",
       "\n",
       "                                                    gmvae  Unnamed: 0  \\\n",
       "30.0    [-0.8235658407211304, 1.1888302564620972, -0.4...          30   \n",
       "36.0    [-1.607719898223877, -0.41855698823928833, -0....          36   \n",
       "37.0    [-2.5158896446228027, -0.44234979152679443, -0...          37   \n",
       "38.0    [-1.138237476348877, 0.09204845130443573, -0.6...          38   \n",
       "39.0    [0.19286823272705078, -0.024575497955083847, -...          39   \n",
       "...                                                   ...         ...   \n",
       "1303.0  [-0.06393954157829285, 0.2460901141166687, 0.2...        1303   \n",
       "1304.0  [0.0732053816318512, 0.5469842553138733, 0.028...        1304   \n",
       "1305.0  [-1.3968186378479004, -0.1816001534461975, 0.3...        1305   \n",
       "1306.0  [-0.7628568410873413, -0.7926732897758484, 0.3...        1306   \n",
       "1307.0  [-0.32871681451797485, 0.3382381200790405, -1....        1307   \n",
       "\n",
       "                                    label            type  \n",
       "30.0                    Alzheimer disease    Neurological  \n",
       "36.0          Cerebral amyloid angiopathy    Neurological  \n",
       "37.0              Coronary artery disease  Cardiovascular  \n",
       "38.0            HDL cholesterol level QTL       Metabolic  \n",
       "39.0                      Tangier disease       Metabolic  \n",
       "...                                   ...             ...  \n",
       "1303.0           Infantile spasm syndrome    Neurological  \n",
       "1304.0                Partington syndrome    Neurological  \n",
       "1305.0                     Proud syndrome        Multiple  \n",
       "1306.0            Birt-Hogg-Dube syndrome  Dermatological  \n",
       "1307.0  Pneumothorax, primary spontaneous     Respiratory  \n",
       "\n",
       "[516 rows x 5 columns]"
      ]
     },
     "execution_count": 25,
     "metadata": {},
     "output_type": "execute_result"
    }
   ],
   "source": [
    "df = emb_df.join(label_df)\n",
    "df"
   ]
  },
  {
   "cell_type": "code",
   "execution_count": 26,
   "id": "prerequisite-constitution",
   "metadata": {},
   "outputs": [],
   "source": [
    "df.to_csv('gae/data/diseasome/diseases.csv')"
   ]
  },
  {
   "cell_type": "markdown",
   "id": "protecting-thanksgiving",
   "metadata": {},
   "source": [
    "## tsne-plots"
   ]
  },
  {
   "cell_type": "code",
   "execution_count": 52,
   "id": "solved-dover",
   "metadata": {},
   "outputs": [
    {
     "data": {
      "text/html": [
       "<div>\n",
       "<style scoped>\n",
       "    .dataframe tbody tr th:only-of-type {\n",
       "        vertical-align: middle;\n",
       "    }\n",
       "\n",
       "    .dataframe tbody tr th {\n",
       "        vertical-align: top;\n",
       "    }\n",
       "\n",
       "    .dataframe thead th {\n",
       "        text-align: right;\n",
       "    }\n",
       "</style>\n",
       "<table border=\"1\" class=\"dataframe\">\n",
       "  <thead>\n",
       "    <tr style=\"text-align: right;\">\n",
       "      <th></th>\n",
       "      <th>node2vec</th>\n",
       "      <th>gmvae</th>\n",
       "      <th>Unnamed: 0</th>\n",
       "      <th>label</th>\n",
       "      <th>type</th>\n",
       "      <th>node2vec_proj</th>\n",
       "      <th>gmvae_proj</th>\n",
       "    </tr>\n",
       "  </thead>\n",
       "  <tbody>\n",
       "    <tr>\n",
       "      <th>30.0</th>\n",
       "      <td>[-0.465608, -0.382239, 0.12997, 0.470032, -0.2...</td>\n",
       "      <td>[-0.8235658407211304, 1.1888302564620972, -0.4...</td>\n",
       "      <td>30</td>\n",
       "      <td>Alzheimer disease</td>\n",
       "      <td>Neurological</td>\n",
       "      <td>[8.589002, -13.8121195]</td>\n",
       "      <td>[8.987151, -2.8400764]</td>\n",
       "    </tr>\n",
       "    <tr>\n",
       "      <th>36.0</th>\n",
       "      <td>[-0.578018, -0.494388, 0.52027, 0.554174, -0.3...</td>\n",
       "      <td>[-1.607719898223877, -0.41855698823928833, -0....</td>\n",
       "      <td>36</td>\n",
       "      <td>Cerebral amyloid angiopathy</td>\n",
       "      <td>Neurological</td>\n",
       "      <td>[-0.12623467, -18.86052]</td>\n",
       "      <td>[8.4074335, -17.715906]</td>\n",
       "    </tr>\n",
       "    <tr>\n",
       "      <th>37.0</th>\n",
       "      <td>[-0.554796, -0.479376, 0.511476, 0.547988, -0....</td>\n",
       "      <td>[-2.5158896446228027, -0.44234979152679443, -0...</td>\n",
       "      <td>37</td>\n",
       "      <td>Coronary artery disease</td>\n",
       "      <td>Cardiovascular</td>\n",
       "      <td>[-0.20409124, -18.586855]</td>\n",
       "      <td>[8.522018, -18.180586]</td>\n",
       "    </tr>\n",
       "    <tr>\n",
       "      <th>38.0</th>\n",
       "      <td>[-0.594653, -0.491095, 0.508405, 0.581627, -0....</td>\n",
       "      <td>[-1.138237476348877, 0.09204845130443573, -0.6...</td>\n",
       "      <td>38</td>\n",
       "      <td>HDL cholesterol level QTL</td>\n",
       "      <td>Metabolic</td>\n",
       "      <td>[0.88184935, -18.600304]</td>\n",
       "      <td>[-0.219269, 7.043293]</td>\n",
       "    </tr>\n",
       "    <tr>\n",
       "      <th>39.0</th>\n",
       "      <td>[-0.562435, -0.494444, 0.494899, 0.551595, -0....</td>\n",
       "      <td>[0.19286823272705078, -0.024575497955083847, -...</td>\n",
       "      <td>39</td>\n",
       "      <td>Tangier disease</td>\n",
       "      <td>Metabolic</td>\n",
       "      <td>[-0.3892915, -18.449648]</td>\n",
       "      <td>[-0.26461026, 6.0763826]</td>\n",
       "    </tr>\n",
       "  </tbody>\n",
       "</table>\n",
       "</div>"
      ],
      "text/plain": [
       "                                               node2vec  \\\n",
       "30.0  [-0.465608, -0.382239, 0.12997, 0.470032, -0.2...   \n",
       "36.0  [-0.578018, -0.494388, 0.52027, 0.554174, -0.3...   \n",
       "37.0  [-0.554796, -0.479376, 0.511476, 0.547988, -0....   \n",
       "38.0  [-0.594653, -0.491095, 0.508405, 0.581627, -0....   \n",
       "39.0  [-0.562435, -0.494444, 0.494899, 0.551595, -0....   \n",
       "\n",
       "                                                  gmvae  Unnamed: 0  \\\n",
       "30.0  [-0.8235658407211304, 1.1888302564620972, -0.4...          30   \n",
       "36.0  [-1.607719898223877, -0.41855698823928833, -0....          36   \n",
       "37.0  [-2.5158896446228027, -0.44234979152679443, -0...          37   \n",
       "38.0  [-1.138237476348877, 0.09204845130443573, -0.6...          38   \n",
       "39.0  [0.19286823272705078, -0.024575497955083847, -...          39   \n",
       "\n",
       "                            label            type              node2vec_proj  \\\n",
       "30.0            Alzheimer disease    Neurological    [8.589002, -13.8121195]   \n",
       "36.0  Cerebral amyloid angiopathy    Neurological   [-0.12623467, -18.86052]   \n",
       "37.0      Coronary artery disease  Cardiovascular  [-0.20409124, -18.586855]   \n",
       "38.0    HDL cholesterol level QTL       Metabolic   [0.88184935, -18.600304]   \n",
       "39.0              Tangier disease       Metabolic   [-0.3892915, -18.449648]   \n",
       "\n",
       "                    gmvae_proj  \n",
       "30.0    [8.987151, -2.8400764]  \n",
       "36.0   [8.4074335, -17.715906]  \n",
       "37.0    [8.522018, -18.180586]  \n",
       "38.0     [-0.219269, 7.043293]  \n",
       "39.0  [-0.26461026, 6.0763826]  "
      ]
     },
     "execution_count": 52,
     "metadata": {},
     "output_type": "execute_result"
    }
   ],
   "source": [
    "# add tsne to the df\n",
    "\n",
    "from sklearn.manifold import TSNE\n",
    "\n",
    "df['node2vec_proj'] = [p for p in TSNE(n_components=2).fit_transform(np.stack(df['node2vec']))]\n",
    "df['gmvae_proj'] = [p for p in TSNE(n_components=2).fit_transform(np.stack(df['gmvae']))]\n",
    "df.head()"
   ]
  },
  {
   "cell_type": "code",
   "execution_count": 43,
   "id": "designed-passing",
   "metadata": {},
   "outputs": [
    {
     "data": {
      "text/plain": [
       "array(['Neurological', 'Cardiovascular', 'Metabolic', 'Hematological',\n",
       "       'Ophthamological', 'Cancer', 'Muscular', 'Ear,Nose,Throat',\n",
       "       'Immunological', 'Respiratory', 'Unclassified', 'Nutritional',\n",
       "       'Skeletal', 'Multiple', 'Renal', 'Endocrine', 'Dermatological',\n",
       "       'Psychiatric', 'Connective tissue disorder', 'Gastrointestinal',\n",
       "       'Bone', 'Developmental'], dtype=object)"
      ]
     },
     "execution_count": 43,
     "metadata": {},
     "output_type": "execute_result"
    }
   ],
   "source": [
    "disease_types = df['type'].unique()\n",
    "disease_types"
   ]
  },
  {
   "cell_type": "markdown",
   "id": "interesting-penny",
   "metadata": {},
   "source": [
    "### Node2Vec"
   ]
  },
  {
   "cell_type": "code",
   "execution_count": 57,
   "id": "floating-consequence",
   "metadata": {},
   "outputs": [
    {
     "data": {
      "image/png": "[encoded data removed]",
      "text/plain": [
       "<Figure size 1152x720 with 1 Axes>"
      ]
     },
     "metadata": {
      "needs_background": "light"
     },
     "output_type": "display_data"
    }
   ],
   "source": [
    "plt.figure(figsize=(16, 10))\n",
    "\n",
    "for t in disease_types:\n",
    "    points = np.stack(df[df['type']==t]['node2vec_proj'].values)\n",
    "    sns.scatterplot(\n",
    "        x=points[:, 0], y=points[:, 1],\n",
    "        palette=sns.color_palette(\"hls\", 10),\n",
    "        legend='full', \n",
    "        alpha=0.8\n",
    "    )\n",
    "plt.show()"
   ]
  },
  {
   "cell_type": "markdown",
   "id": "elegant-petersburg",
   "metadata": {},
   "source": [
    "### GMVAE"
   ]
  },
  {
   "cell_type": "code",
   "execution_count": 62,
   "id": "placed-symphony",
   "metadata": {},
   "outputs": [
    {
     "data": {
      "image/png": "[encoded data removed]",
      "text/plain": [
       "<Figure size 1152x720 with 1 Axes>"
      ]
     },
     "metadata": {
      "needs_background": "light"
     },
     "output_type": "display_data"
    }
   ],
   "source": [
    "plt.figure(figsize=(16, 10))\n",
    "\n",
    "for t in disease_types:\n",
    "    points = np.stack(df[df['type']==t]['gmvae_proj'].values)\n",
    "    sns.scatterplot(\n",
    "        x=points[:, 0], y=points[:, 1],\n",
    "        palette=sns.color_palette(\"hls\", 10),\n",
    "        legend='full', \n",
    "        alpha=0.8, \n",
    "    )\n",
    "plt.show()"
   ]
  },
  {
   "cell_type": "code",
   "execution_count": null,
   "id": "valued-accreditation",
   "metadata": {},
   "outputs": [],
   "source": []
  }
 ],
 "metadata": {
  "kernelspec": {
   "display_name": "tensorflow2_latest_p37",
   "language": "python",
   "name": "tensorflow2_latest_p37"
  },
  "language_info": {
   "codemirror_mode": {
    "name": "ipython",
    "version": 3
   },
   "file_extension": ".py",
   "mimetype": "text/x-python",
   "name": "python",
   "nbconvert_exporter": "python",
   "pygments_lexer": "ipython3",
   "version": "3.7.6"
  }
 },
 "nbformat": 4,
 "nbformat_minor": 5
}
