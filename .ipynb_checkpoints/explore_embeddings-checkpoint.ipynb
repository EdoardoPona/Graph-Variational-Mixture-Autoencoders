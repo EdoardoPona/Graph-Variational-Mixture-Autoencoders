{
 "cells": [
  {
   "cell_type": "code",
   "execution_count": 2,
   "id": "musical-awareness",
   "metadata": {},
   "outputs": [],
   "source": [
    "import seaborn as sns\n",
    "import matplotlib.pyplot as plt\n",
    "import numpy as np"
   ]
  },
  {
   "cell_type": "markdown",
   "id": "affiliated-stone",
   "metadata": {},
   "source": [
    "### loading node2vec embeddings"
   ]
  },
  {
   "cell_type": "code",
   "execution_count": 33,
   "id": "processed-hammer",
   "metadata": {},
   "outputs": [],
   "source": [
    "with open('gae/data/saved/node2vec/disease_weighted.emb') as f:\n",
    "    embeddings = f.readlines()[1:]"
   ]
  },
  {
   "cell_type": "code",
   "execution_count": 37,
   "id": "hindu-guinea",
   "metadata": {},
   "outputs": [],
   "source": [
    "embeddings.sort(key=lambda l: int(l.replace('\\n', '').split(' ')[0]))"
   ]
  },
  {
   "cell_type": "code",
   "execution_count": 38,
   "id": "prescribed-exhaust",
   "metadata": {},
   "outputs": [],
   "source": [
    "embeddings = [[float(n) for n in l.split(' ')] for l in embeddings]"
   ]
  },
  {
   "cell_type": "code",
   "execution_count": 39,
   "id": "protected-clause",
   "metadata": {},
   "outputs": [],
   "source": [
    "node_list = [e[0] for e in embeddings]\n",
    "embeddings = [e[1:] for e in embeddings]"
   ]
  },
  {
   "cell_type": "code",
   "execution_count": 40,
   "id": "excessive-bunch",
   "metadata": {},
   "outputs": [
    {
     "data": {
      "text/plain": [
       "(516, 16)"
      ]
     },
     "execution_count": 40,
     "metadata": {},
     "output_type": "execute_result"
    }
   ],
   "source": [
    "embedding_matrix = np.stack(embeddings)\n",
    "embedding_matrix.shape"
   ]
  },
  {
   "cell_type": "markdown",
   "id": "forced-plaza",
   "metadata": {},
   "source": [
    "### loading gmvae embeddings"
   ]
  },
  {
   "cell_type": "code",
   "execution_count": 88,
   "id": "relative-prior",
   "metadata": {},
   "outputs": [
    {
     "data": {
      "text/plain": [
       "(516, 16)"
      ]
     },
     "execution_count": 88,
     "metadata": {},
     "output_type": "execute_result"
    }
   ],
   "source": [
    "z = np.load('gae/data/saved/disease_network_z.npy')\n",
    "z.shape"
   ]
  },
  {
   "cell_type": "code",
   "execution_count": 89,
   "id": "inside-representative",
   "metadata": {},
   "outputs": [],
   "source": [
    "with open('gae/data/diseasome/node_list.txt') as f: \n",
    "    node_order = f.readlines()"
   ]
  },
  {
   "cell_type": "code",
   "execution_count": 90,
   "id": "bigger-framework",
   "metadata": {},
   "outputs": [],
   "source": [
    "node_order = [int(n.replace('\\n', '')) for n in node_order]"
   ]
  },
  {
   "cell_type": "code",
   "execution_count": 91,
   "id": "dedicated-secondary",
   "metadata": {},
   "outputs": [],
   "source": [
    "# sorted z \n",
    "z = np.stack(sorted(zip(node_order, z.tolist()), key=lambda x: x[0]))"
   ]
  },
  {
   "cell_type": "code",
   "execution_count": 95,
   "id": "entire-salmon",
   "metadata": {},
   "outputs": [],
   "source": [
    "z = np.stack(list(zip(*z))[1])"
   ]
  },
  {
   "cell_type": "markdown",
   "id": "through-papua",
   "metadata": {},
   "source": [
    "### Dataframe"
   ]
  },
  {
   "cell_type": "code",
   "execution_count": 108,
   "id": "cooked-disco",
   "metadata": {},
   "outputs": [],
   "source": [
    "import pandas as pd \n",
    "\n",
    "df = pd.DataFrame()\n",
    "df['node2vec'] = embedding_matrix.tolist()\n",
    "df['gmvae'] = z.tolist()\n",
    "df = df.set_index(pd.Series(node_list))"
   ]
  },
  {
   "cell_type": "code",
   "execution_count": 109,
   "id": "vertical-killing",
   "metadata": {},
   "outputs": [
    {
     "data": {
      "text/html": [
       "<div>\n",
       "<style scoped>\n",
       "    .dataframe tbody tr th:only-of-type {\n",
       "        vertical-align: middle;\n",
       "    }\n",
       "\n",
       "    .dataframe tbody tr th {\n",
       "        vertical-align: top;\n",
       "    }\n",
       "\n",
       "    .dataframe thead th {\n",
       "        text-align: right;\n",
       "    }\n",
       "</style>\n",
       "<table border=\"1\" class=\"dataframe\">\n",
       "  <thead>\n",
       "    <tr style=\"text-align: right;\">\n",
       "      <th></th>\n",
       "      <th>node2vec</th>\n",
       "      <th>gmvae</th>\n",
       "    </tr>\n",
       "  </thead>\n",
       "  <tbody>\n",
       "    <tr>\n",
       "      <th>30.0</th>\n",
       "      <td>[-0.465608, -0.382239, 0.12997, 0.470032, -0.2...</td>\n",
       "      <td>[-0.8235658407211304, 1.1888302564620972, -0.4...</td>\n",
       "    </tr>\n",
       "    <tr>\n",
       "      <th>36.0</th>\n",
       "      <td>[-0.578018, -0.494388, 0.52027, 0.554174, -0.3...</td>\n",
       "      <td>[-1.607719898223877, -0.41855698823928833, -0....</td>\n",
       "    </tr>\n",
       "    <tr>\n",
       "      <th>37.0</th>\n",
       "      <td>[-0.554796, -0.479376, 0.511476, 0.547988, -0....</td>\n",
       "      <td>[-2.5158896446228027, -0.44234979152679443, -0...</td>\n",
       "    </tr>\n",
       "    <tr>\n",
       "      <th>38.0</th>\n",
       "      <td>[-0.594653, -0.491095, 0.508405, 0.581627, -0....</td>\n",
       "      <td>[-1.138237476348877, 0.09204845130443573, -0.6...</td>\n",
       "    </tr>\n",
       "    <tr>\n",
       "      <th>39.0</th>\n",
       "      <td>[-0.562435, -0.494444, 0.494899, 0.551595, -0....</td>\n",
       "      <td>[0.19286823272705078, -0.024575497955083847, -...</td>\n",
       "    </tr>\n",
       "  </tbody>\n",
       "</table>\n",
       "</div>"
      ],
      "text/plain": [
       "                                               node2vec  \\\n",
       "30.0  [-0.465608, -0.382239, 0.12997, 0.470032, -0.2...   \n",
       "36.0  [-0.578018, -0.494388, 0.52027, 0.554174, -0.3...   \n",
       "37.0  [-0.554796, -0.479376, 0.511476, 0.547988, -0....   \n",
       "38.0  [-0.594653, -0.491095, 0.508405, 0.581627, -0....   \n",
       "39.0  [-0.562435, -0.494444, 0.494899, 0.551595, -0....   \n",
       "\n",
       "                                                  gmvae  \n",
       "30.0  [-0.8235658407211304, 1.1888302564620972, -0.4...  \n",
       "36.0  [-1.607719898223877, -0.41855698823928833, -0....  \n",
       "37.0  [-2.5158896446228027, -0.44234979152679443, -0...  \n",
       "38.0  [-1.138237476348877, 0.09204845130443573, -0.6...  \n",
       "39.0  [0.19286823272705078, -0.024575497955083847, -...  "
      ]
     },
     "execution_count": 109,
     "metadata": {},
     "output_type": "execute_result"
    }
   ],
   "source": [
    "df.head()"
   ]
  },
  {
   "cell_type": "markdown",
   "id": "finished-interest",
   "metadata": {},
   "source": [
    "### tsne-plot"
   ]
  },
  {
   "cell_type": "code",
   "execution_count": 28,
   "id": "worst-medium",
   "metadata": {},
   "outputs": [
    {
     "data": {
      "text/plain": [
       "(516, 2)"
      ]
     },
     "execution_count": 28,
     "metadata": {},
     "output_type": "execute_result"
    }
   ],
   "source": [
    "from sklearn.manifold import TSNE\n",
    "\n",
    "embeddings_tsne = TSNE(n_components=2).fit_transform(embedding_matrix)\n",
    "embeddings_tsne.shape "
   ]
  },
  {
   "cell_type": "code",
   "execution_count": 29,
   "id": "communist-engagement",
   "metadata": {},
   "outputs": [
    {
     "data": {
      "text/plain": [
       "<matplotlib.axes._subplots.AxesSubplot at 0x7fe92e70afd0>"
      ]
     },
     "execution_count": 29,
     "metadata": {},
     "output_type": "execute_result"
    },
    {
     "data": {
      "image/png": "[encoded data removed]",
      "text/plain": [
       "<Figure size 1152x720 with 1 Axes>"
      ]
     },
     "metadata": {
      "needs_background": "light"
     },
     "output_type": "display_data"
    }
   ],
   "source": [
    "plt.figure(figsize=(16, 10))\n",
    "sns.scatterplot(\n",
    "    x=embeddings_tsne[:, 0], y=embeddings_tsne[:, 1],\n",
    "    palette=sns.color_palette(\"hls\", 10),\n",
    "    legend='full', \n",
    "    alpha=0.5,\n",
    "    color='red'\n",
    ")"
   ]
  },
  {
   "cell_type": "code",
   "execution_count": null,
   "id": "timely-immune",
   "metadata": {},
   "outputs": [],
   "source": []
  }
 ],
 "metadata": {
  "kernelspec": {
   "display_name": "tensorflow2_latest_p37",
   "language": "python",
   "name": "tensorflow2_latest_p37"
  },
  "language_info": {
   "codemirror_mode": {
    "name": "ipython",
    "version": 3
   },
   "file_extension": ".py",
   "mimetype": "text/x-python",
   "name": "python",
   "nbconvert_exporter": "python",
   "pygments_lexer": "ipython3",
   "version": "3.7.6"
  }
 },
 "nbformat": 4,
 "nbformat_minor": 5
}
